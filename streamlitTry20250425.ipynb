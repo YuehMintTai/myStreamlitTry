{
 "cells": [
  {
   "cell_type": "code",
   "execution_count": 1,
   "id": "32e2734c",
   "metadata": {},
   "outputs": [
    {
     "data": {
      "text/plain": [
       "'他的決定出來他們兩個大小電話隻要個人你的不同自己.'"
      ]
     },
     "execution_count": 1,
     "metadata": {},
     "output_type": "execute_result"
    }
   ],
   "source": [
    "from faker import Faker\n",
    "fake=Faker('zh-TW')\n",
    "fake.sentence(20)"
   ]
  }
 ],
 "metadata": {
  "kernelspec": {
   "display_name": "venv",
   "language": "python",
   "name": "python3"
  },
  "language_info": {
   "codemirror_mode": {
    "name": "ipython",
    "version": 3
   },
   "file_extension": ".py",
   "mimetype": "text/x-python",
   "name": "python",
   "nbconvert_exporter": "python",
   "pygments_lexer": "ipython3",
   "version": "3.9.11"
  }
 },
 "nbformat": 4,
 "nbformat_minor": 5
}
